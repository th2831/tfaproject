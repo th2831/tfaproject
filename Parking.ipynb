{
 "cells": [
  {
   "cell_type": "code",
   "execution_count": 1,
   "id": "b9711974",
   "metadata": {},
   "outputs": [
    {
     "name": "stderr",
     "output_type": "stream",
     "text": [
      "C:\\Users\\hello\\anaconda3\\lib\\site-packages\\IPython\\core\\interactiveshell.py:3165: DtypeWarning: Columns (20,31,32) have mixed types.Specify dtype option on import or set low_memory=False.\n",
      "  has_raised = await self.run_ast_nodes(code_ast.body, cell_name,\n"
     ]
    }
   ],
   "source": [
    "#Import 311_Service_Requests_2020.csv\n",
    "import pandas as pd\n",
    "df = pd.read_csv('311_Service_Requests_2020.csv')"
   ]
  },
  {
   "cell_type": "code",
   "execution_count": 2,
   "id": "5c749bad",
   "metadata": {},
   "outputs": [],
   "source": [
    "#Calculate proportion of illegal parking incidents in zipcode 10027.0\n",
    "total_count = df.count()['Unique Key']\n",
    "parking_count = df[df['Complaint Type']=='Illegal Parking'].count()['Unique Key']\n",
    "parking_proportion = parking_count/total_count"
   ]
  },
  {
   "cell_type": "code",
   "execution_count": 3,
   "id": "3d9b9cec",
   "metadata": {},
   "outputs": [],
   "source": [
    "#Calculate proportion of illegal parking incidents across all zipcodes\n",
    "df2 = df[df['Incident Zip']==10027.0]\n",
    "total_count_10027 = df2.count()['Unique Key']\n",
    "parking_count_10027 = df2[df2['Complaint Type']=='Illegal Parking'].count()['Unique Key']\n",
    "parking_proportion_10027 = parking_count_10027/total_count_10027"
   ]
  },
  {
   "cell_type": "code",
   "execution_count": 4,
   "id": "aff3e9bd",
   "metadata": {},
   "outputs": [],
   "source": [
    "# Compare 10027's illegal parking incident rate and global illegal parking incident rate\n",
    "higher_parking_propertion = parking_proportion_10027>parking_proportion"
   ]
  }
 ],
 "metadata": {
  "kernelspec": {
   "display_name": "Python 3",
   "language": "python",
   "name": "python3"
  },
  "language_info": {
   "codemirror_mode": {
    "name": "ipython",
    "version": 3
   },
   "file_extension": ".py",
   "mimetype": "text/x-python",
   "name": "python",
   "nbconvert_exporter": "python",
   "pygments_lexer": "ipython3",
   "version": "3.8.8"
  }
 },
 "nbformat": 4,
 "nbformat_minor": 5
}
